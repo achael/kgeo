{
 "cells": [
  {
   "cell_type": "code",
   "execution_count": 1,
   "id": "7a0173a7",
   "metadata": {},
   "outputs": [
    {
     "name": "stdout",
     "output_type": "stream",
     "text": [
      "Warning: No NFFT installed!\n",
      "Welcome to eht-imaging! v 1.2.6 \n",
      "\n"
     ]
    }
   ],
   "source": [
    "import kgeo as kg\n",
    "import numpy as np\n",
    "import matplotlib.pyplot as plt\n",
    "from kgeo.off_eq import *\n",
    "import kgeo.bfields as kgb\n",
    "from kgeo.image import *\n",
    "import pickle"
   ]
  },
  {
   "cell_type": "markdown",
   "id": "7cf29f32",
   "metadata": {},
   "source": [
    "# Define parameters"
   ]
  },
  {
   "cell_type": "code",
   "execution_count": 2,
   "id": "d966bd7f",
   "metadata": {},
   "outputs": [],
   "source": [
    "#Geodesic parameters parameters\n",
    "ROUT = 4.e10 # sgra distance in M\n",
    "NPTS = 100 #number of points in row on image\n",
    "NGEO = 500 #number of points per geodesic (for guessing before root-finder)\n",
    "neqmax = 2 #maximum number of equatorial crossings on a geodesic\n",
    "INC = .001*np.pi/180 #inclination\n",
    "spin = 0.5 #BH dimensionless spin\n",
    "bmax5 = 100 #maximum impact parameter\n",
    "alphas5 = np.linspace(-bmax5,bmax5,NPTS)\n",
    "betas5 = np.linspace(-bmax5,bmax5,NPTS)\n",
    "agrid5, bgrid5 = np.meshgrid(alphas5, betas5)\n",
    "aflat5 = agrid5.flatten()\n",
    "bflat5 = bgrid5.flatten()"
   ]
  },
  {
   "cell_type": "code",
   "execution_count": 3,
   "id": "2baa3395",
   "metadata": {},
   "outputs": [],
   "source": [
    "#jet properties\n",
    "sigma = 20 #width (in r)  of mass-loading pulse\n",
    "rp = 1+np.sqrt(1-spin**2) #outer horizon radius\n",
    "psitarget = rp*np.log(4)*.99 #which fieldline to ray-trace. This choice corresponds to intersection of EH with midplane\n",
    "model = 'para' #BZ paraboloid"
   ]
  },
  {
   "cell_type": "markdown",
   "id": "e9854bb0",
   "metadata": {},
   "source": [
    "# Ray-trace geodesics"
   ]
  },
  {
   "cell_type": "code",
   "execution_count": 4,
   "id": "4c9aa4be",
   "metadata": {},
   "outputs": [
    {
     "name": "stdout",
     "output_type": "stream",
     "text": [
      "calculating preliminaries...\n",
      "integrating in theta...18.28 s\n",
      "integrating in r...18.59 s\n",
      "done!   37.051466941833496  seconds!\n"
     ]
    }
   ],
   "source": [
    "outgeo_5 = raytrace_ana(a=spin,\n",
    "                 observer_coords = [0,ROUT,INC,0],\n",
    "                 image_coords = [agrid5.flatten(), bgrid5.flatten()], #assumes 1D arrays of alpha and beta\n",
    "                 ngeo=NGEO,\n",
    "                 do_phi_and_t=True,\n",
    "                 savedata=False, plotdata=False)"
   ]
  },
  {
   "cell_type": "markdown",
   "id": "b49b9027",
   "metadata": {},
   "source": [
    "# Generate images"
   ]
  },
  {
   "cell_type": "code",
   "execution_count": 5,
   "id": "c8ca5888",
   "metadata": {},
   "outputs": [],
   "source": [
    "%%capture\n",
    "#compute intersections of jet with geodesic\n",
    "ivec_5_nogamma, qvec_5_nogamma, uvec_5_nogamma, evpa_5_nogamma, r_5_nogamma, th_5_nogamma = getstokes(psitarget, agrid5, bgrid5, ROUT, INC, spin, NGEO, do_phi_and_t = True, model=model, neqmax=neqmax, outgeo=outgeo_5, nu_parallel = 'FF', vel='driftframe', sigma = sigma, gammamax=None, retvals=True)"
   ]
  },
  {
   "cell_type": "code",
   "execution_count": 7,
   "id": "05b1a169",
   "metadata": {},
   "outputs": [],
   "source": [
    "# combine into image\n",
    "im_total5 = makeim(ivec_5_nogamma[-1], qvec_5_nogamma[-1], uvec_5_nogamma[-1], agrid5)\n",
    "im_total5.display(plotp=True,pcut=0,scale='log')"
   ]
  },
  {
   "cell_type": "code",
   "execution_count": null,
   "id": "5a43ce52",
   "metadata": {},
   "outputs": [],
   "source": []
  }
 ],
 "metadata": {
  "kernelspec": {
   "display_name": "Python 3 (ipykernel)",
   "language": "python",
   "name": "python3"
  },
  "language_info": {
   "codemirror_mode": {
    "name": "ipython",
    "version": 3
   },
   "file_extension": ".py",
   "mimetype": "text/x-python",
   "name": "python",
   "nbconvert_exporter": "python",
   "pygments_lexer": "ipython3",
   "version": "3.11.4"
  }
 },
 "nbformat": 4,
 "nbformat_minor": 5
}
